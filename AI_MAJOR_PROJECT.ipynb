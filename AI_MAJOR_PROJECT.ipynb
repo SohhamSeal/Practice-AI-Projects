{
  "nbformat": 4,
  "nbformat_minor": 0,
  "metadata": {
    "kernelspec": {
      "display_name": "Python 3",
      "language": "python",
      "name": "python3"
    },
    "language_info": {
      "codemirror_mode": {
        "name": "ipython",
        "version": 3
      },
      "file_extension": ".py",
      "mimetype": "text/x-python",
      "name": "python",
      "nbconvert_exporter": "python",
      "pygments_lexer": "ipython3",
      "version": "3.8.3"
    },
    "colab": {
      "name": "AI MAJOR PROJECT Verzeo.ipynb",
      "provenance": [],
      "collapsed_sections": []
    }
  },
  "cells": [
    {
      "cell_type": "code",
      "metadata": {
        "id": "aTPnXFAxVm-9"
      },
      "source": [
        "import numpy as np\r\n",
        "import cv2,os\r\n",
        "from keras.utils import np_utils\r\n",
        "from sklearn.model_selection import train_test_split\r\n",
        "from keras.preprocessing.image import ImageDataGenerator"
      ],
      "execution_count": null,
      "outputs": []
    },
    {
      "cell_type": "code",
      "metadata": {
        "id": "CzXoBzSoI7fM",
        "outputId": "fab6e691-35bf-4e2f-a5ee-83a4a01a9c3d"
      },
      "source": [
        "data_path = r'C:\\Users\\91727\\Desktop\\dataset'\n",
        "categories = os.listdir(data_path)\n",
        "labels = [i for i in range(len(categories))]\n",
        "label_dict = dict(zip(categories, labels))\n",
        "print(label_dict)\n",
        "print(categories)\n",
        "print(labels)"
      ],
      "execution_count": null,
      "outputs": [
        {
          "output_type": "stream",
          "text": [
            "{'without_mask': 0, 'with_mask': 1}\n",
            "['without_mask', 'with_mask']\n",
            "[0, 1]\n"
          ],
          "name": "stdout"
        }
      ]
    },
    {
      "cell_type": "code",
      "metadata": {
        "id": "wXcX-yiTI7fc"
      },
      "source": [
        "img_size = 100\n",
        "data = []\n",
        "target = []\n",
        "\n",
        "for category in categories:\n",
        "    folder_path = os.path.join(data_path, category)\n",
        "    img_names = os.listdir(folder_path)\n",
        "    for img_name in img_names:\n",
        "        img_path = os.path.join(folder_path, img_name)\n",
        "        img = cv2.imread(img_path)\n",
        "        gray = cv2.cvtColor(img, cv2.COLOR_BGR2GRAY)           \n",
        "        resized = cv2.resize(gray, (img_size, img_size))\n",
        "        data.append(resized)\n",
        "        target.append(label_dict[category])            "
      ],
      "execution_count": null,
      "outputs": []
    },
    {
      "cell_type": "code",
      "metadata": {
        "id": "BXtSjTbZI7fe"
      },
      "source": [
        "data = np.array(data)/255.0\n",
        "data = np.reshape(data, (data.shape[0], img_size, img_size,1))\n",
        "target = np.array(target)\n",
        "target = np_utils.to_categorical(target)"
      ],
      "execution_count": null,
      "outputs": []
    },
    {
      "cell_type": "code",
      "metadata": {
        "id": "LzX5anEiI7ff"
      },
      "source": [
        "train_data,test_data,train_target,test_target = train_test_split(data, target, test_size = 0.1)"
      ],
      "execution_count": null,
      "outputs": []
    },
    {
      "cell_type": "code",
      "metadata": {
        "id": "Rb84WXlNI7ff"
      },
      "source": [
        "dataGen = ImageDataGenerator(width_shift_range=0.1, height_shift_range=0.1, zoom_range=0.2, shear_range=0.1, rotation_range=10)\n",
        "dataGen.fit(train_data)"
      ],
      "execution_count": null,
      "outputs": []
    },
    {
      "cell_type": "code",
      "metadata": {
        "id": "baT25cAHWB2I"
      },
      "source": [
        "from keras.models import Sequential\r\n",
        "from keras.layers import Dense,Activation,Flatten,Dropout\r\n",
        "from keras.layers import Conv2D,MaxPooling2D\r\n",
        "from keras.callbacks import ModelCheckpoint\r\n",
        "from keras.optimizers import Adam"
      ],
      "execution_count": null,
      "outputs": []
    },
    {
      "cell_type": "code",
      "metadata": {
        "id": "TrgT4KnsI7fg"
      },
      "source": [
        "model = Sequential()\n",
        "model.add(Conv2D(250, (3,3), input_shape = data.shape[1:]))\n",
        "model.add(Activation('relu'))\n",
        "model.add(MaxPooling2D(pool_size = (2,2)))\n",
        "model.add(Conv2D(100, (3,3)))\n",
        "model.add(Activation('relu'))\n",
        "model.add(MaxPooling2D(pool_size = (2,2)))\n",
        "model.add(Flatten())\n",
        "model.add(Dropout(0.5))\n",
        "model.add(Dense(50, activation = 'relu'))\n",
        "model.add(Dense(2, activation = 'softmax'))"
      ],
      "execution_count": null,
      "outputs": []
    },
    {
      "cell_type": "code",
      "metadata": {
        "id": "FX6p41fbI7fi"
      },
      "source": [
        "model.compile(Adam(lr = 0.001), loss = 'categorical_crossentropy', metrics = ['accuracy'])"
      ],
      "execution_count": null,
      "outputs": []
    },
    {
      "cell_type": "code",
      "metadata": {
        "scrolled": true,
        "id": "oyWpsXMEI7fj"
      },
      "source": [
        "model.fit_generator(dataGen.flow(train_data, train_target, batch_size = 20), epochs = 20)"
      ],
      "execution_count": null,
      "outputs": []
    },
    {
      "cell_type": "code",
      "metadata": {
        "id": "1evpDxT4I7fk"
      },
      "source": [
        "face_clsfr = cv2.CascadeClassifier('haarcascade_frontalface_default.xml')\n",
        "source = cv2.VideoCapture(0)\n",
        "labels_dict = {0:'NO MASK', 1:'MASK'}\n",
        "color_dict = {0:(0,0,255), 1:(0,255,0)}"
      ],
      "execution_count": null,
      "outputs": []
    },
    {
      "cell_type": "code",
      "metadata": {
        "id": "0m1lnOx7I7fk"
      },
      "source": [
        "while(True):\n",
        "\n",
        "    ret,img = source.read()\n",
        "    gray = cv2.cvtColor(img,cv2.COLOR_BGR2GRAY)\n",
        "    faces = face_clsfr.detectMultiScale(gray,1.3,5)  \n",
        "\n",
        "    for x,y,w,h in faces:\n",
        "    \n",
        "        face_img = gray[y:y+w,x:x+w]\n",
        "        resized = cv2.resize(face_img, (100,100))\n",
        "        normalized = resized/255.0\n",
        "        reshaped = np.reshape(normalized, (1,100,100,1))\n",
        "        result = model.predict(reshaped)\n",
        "\n",
        "        label = np.argmax(result, axis=1)[0]\n",
        "        maxprob = np.amax(result)\n",
        "        if maxprob>0.75:\n",
        "            cv2.rectangle(img, (x,y), (x+w,y+h), color_dict[label], 2)\n",
        "            cv2.rectangle(img, (x,y-40), (x+w,y), color_dict[label], -1)\n",
        "            cv2.putText(img, labels_dict[label], (x, y-10), cv2.FONT_HERSHEY_SIMPLEX, 0.8, (255,255,255), 2)\n",
        "            cv2.putText(img, str(maxprob*100) + \"%\", (x,y-40), cv2.FONT_HERSHEY_SIMPLEX, 0.8, (255,255,255), 2)\n",
        "        \n",
        "        \n",
        "    cv2.imshow('LIVE', img)\n",
        "    key = cv2.waitKey(1)\n",
        "    \n",
        "    if(key == 27):\n",
        "        break\n",
        "        \n",
        "cv2.destroyAllWindows()\n",
        "source.release()"
      ],
      "execution_count": null,
      "outputs": []
    }
  ]
}