{
  "nbformat": 4,
  "nbformat_minor": 0,
  "metadata": {
    "colab": {
      "name": "Image Processing #2",
      "provenance": [],
      "collapsed_sections": []
    },
    "kernelspec": {
      "name": "python3",
      "display_name": "Python 3"
    }
  },
  "cells": [
    {
      "cell_type": "markdown",
      "metadata": {
        "id": "Z19Zi6ca81cT"
      },
      "source": [
        "Problem Statement: [Image processing #2](https://docs.google.com/document/d/1CHvXTk-gR-x6hwXoPXypSl36gtzdNfzNR5dLfHuUjas/edit#)"
      ]
    },
    {
      "cell_type": "markdown",
      "metadata": {
        "id": "oIfmbdIR7uj5"
      },
      "source": [
        "## Loading the required libraries and packages"
      ]
    },
    {
      "cell_type": "code",
      "metadata": {
        "id": "7gse509-uLJK"
      },
      "source": [
        "import keras\r\n",
        "from keras.models import Sequential\r\n",
        "from keras.layers import Dense\r\n",
        "from keras.utils import to_categorical\r\n",
        "import matplotlib.pyplot as plt\r\n",
        "import numpy as np\r\n",
        "\r\n",
        "from keras.datasets import mnist\r\n",
        "from keras.layers import Dropout\r\n",
        "from keras.layers import Flatten\r\n",
        "from keras.layers.convolutional import Conv2D\r\n",
        "from keras.layers.convolutional import MaxPooling2D\r\n",
        "from keras.utils import np_utils"
      ],
      "execution_count": null,
      "outputs": []
    },
    {
      "cell_type": "markdown",
      "metadata": {
        "id": "4_tKqe3N78ZF"
      },
      "source": [
        "## Loading the MNIST dataset and creating the training and test arrays"
      ]
    },
    {
      "cell_type": "code",
      "metadata": {
        "id": "Z5cPWDlcvFXA"
      },
      "source": [
        "(X_train, y_train),(X_test, y_test)=mnist.load_data()\r\n",
        "print(X_train.shape,X_test.shape)\r\n",
        "print(X_train[1].shape)"
      ],
      "execution_count": null,
      "outputs": []
    },
    {
      "cell_type": "markdown",
      "metadata": {
        "id": "AD47eQni8BDv"
      },
      "source": [
        "## Display data"
      ]
    },
    {
      "cell_type": "code",
      "metadata": {
        "colab": {
          "base_uri": "https://localhost:8080/",
          "height": 265
        },
        "id": "Ilz2XNtwvaFv",
        "outputId": "88b62dda-4252-4fea-f5dc-581935ac390e"
      },
      "source": [
        "plt.imshow(X_train[1])\r\n",
        "plt.show()"
      ],
      "execution_count": null,
      "outputs": [
        {
          "output_type": "display_data",
          "data": {
            "image/png": "[encoded data removed]",
            "text/plain": [
              "<Figure size 432x288 with 1 Axes>"
            ]
          },
          "metadata": {
            "tags": [],
            "needs_background": "light"
          }
        }
      ]
    },
    {
      "cell_type": "markdown",
      "metadata": {
        "id": "L6YPNqlW8FY2"
      },
      "source": [
        "## Data Preparation"
      ]
    },
    {
      "cell_type": "code",
      "metadata": {
        "colab": {
          "base_uri": "https://localhost:8080/"
        },
        "id": "EQAdVNE0wU7i",
        "outputId": "2e556db5-3d21-45bd-83a7-03a694526133"
      },
      "source": [
        "X_train=X_train.reshape((X_train.shape[0],28,28,1)).astype('float32')\r\n",
        "X_test=X_test.reshape((X_test.shape[0],28,28,1)).astype('float32')\r\n",
        "X_train=X_train/255\r\n",
        "X_test=X_test/255\r\n",
        "y_train=np_utils.to_categorical(y_train)\r\n",
        "y_test=np_utils.to_categorical(y_test)\r\n",
        "num_classes=y_test.shape[1]\r\n",
        "print(X_train.shape)\r\n",
        "print(X_train.shape)\r\n",
        "print(num_classes)"
      ],
      "execution_count": null,
      "outputs": [
        {
          "output_type": "stream",
          "text": [
            "(60000, 28, 28, 1)\n",
            "(60000, 28, 28, 1)\n",
            "10\n"
          ],
          "name": "stdout"
        }
      ]
    },
    {
      "cell_type": "markdown",
      "metadata": {
        "id": "0HXKb--48QtN"
      },
      "source": [
        "## Building the CNN model"
      ]
    },
    {
      "cell_type": "code",
      "metadata": {
        "id": "NK11JoHVy1_I"
      },
      "source": [
        "cnn_model=Sequential()\r\n",
        "cnn_model.add(Conv2D(32,5,activation=\"relu\",input_shape=(28,28,1)))\r\n",
        "cnn_model.add(MaxPooling2D((2,2)))\r\n",
        "cnn_model.add(Dropout(0.5))\r\n",
        "cnn_model.add(Flatten())\r\n",
        "cnn_model.add(Dense(128,activation=\"relu\"))\r\n",
        "cnn_model.add(Dense(10,activation = 'softmax'))"
      ],
      "execution_count": null,
      "outputs": []
    },
    {
      "cell_type": "markdown",
      "metadata": {
        "id": "DHPHK73Y8T2I"
      },
      "source": [
        "## Compiling the CNN model"
      ]
    },
    {
      "cell_type": "code",
      "metadata": {
        "id": "LyNJjjZm3Xti"
      },
      "source": [
        "cnn_model.compile(optimizer='adam',loss='categorical_crossentropy',metrics='accuracy')"
      ],
      "execution_count": null,
      "outputs": []
    },
    {
      "cell_type": "markdown",
      "metadata": {
        "id": "Y6xB2-ca8fmm"
      },
      "source": [
        "## Fitting the model"
      ]
    },
    {
      "cell_type": "markdown",
      "metadata": {
        "id": "SP4BS1p28jRm"
      },
      "source": [
        "Eval"
      ]
    },
    {
      "cell_type": "code",
      "metadata": {
        "colab": {
          "base_uri": "https://localhost:8080/"
        },
        "id": "AMo2THau4HLv",
        "outputId": "e5759fa0-c354-465c-c188-374cbdd19981"
      },
      "source": [
        "cnn_model.fit(X_train, y_train, batch_size=150, epochs=5)"
      ],
      "execution_count": null,
      "outputs": [
        {
          "output_type": "stream",
          "text": [
            "Epoch 1/5\n",
            "400/400 [==============================] - 28s 69ms/step - loss: 0.5201 - accuracy: 0.8450\n",
            "Epoch 2/5\n",
            "400/400 [==============================] - 28s 70ms/step - loss: 0.1024 - accuracy: 0.9695\n",
            "Epoch 3/5\n",
            "400/400 [==============================] - 27s 68ms/step - loss: 0.0685 - accuracy: 0.9793\n",
            "Epoch 4/5\n",
            "400/400 [==============================] - 27s 68ms/step - loss: 0.0514 - accuracy: 0.9844\n",
            "Epoch 5/5\n",
            "400/400 [==============================] - 27s 68ms/step - loss: 0.0433 - accuracy: 0.9861\n"
          ],
          "name": "stdout"
        },
        {
          "output_type": "execute_result",
          "data": {
            "text/plain": [
              "<tensorflow.python.keras.callbacks.History at 0x7fed6ed95f90>"
            ]
          },
          "metadata": {
            "tags": []
          },
          "execution_count": 44
        }
      ]
    },
    {
      "cell_type": "code",
      "metadata": {
        "colab": {
          "base_uri": "https://localhost:8080/"
        },
        "id": "VCwY-wmo4q42",
        "outputId": "f682d819-20ed-43ea-ccd8-f7a1c025631c"
      },
      "source": [
        "results=cnn_model.evaluate(X_test,y_test)\r\n",
        "print(\"test loss\",results[0],\"\\ntest acc:\", results[1])"
      ],
      "execution_count": null,
      "outputs": [
        {
          "output_type": "stream",
          "text": [
            "313/313 [==============================] - 2s 7ms/step - loss: 0.0341 - accuracy: 0.9886\n",
            "test loss 0.034126799553632736 \n",
            "test acc: 0.9886000156402588\n"
          ],
          "name": "stdout"
        }
      ]
    }
  ]
}