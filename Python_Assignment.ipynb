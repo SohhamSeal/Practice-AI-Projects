{
  "nbformat": 4,
  "nbformat_minor": 0,
  "metadata": {
    "colab": {
      "name": "Python Assignment",
      "provenance": [],
      "collapsed_sections": []
    },
    "kernelspec": {
      "name": "python3",
      "display_name": "Python 3"
    }
  },
  "cells": [
    {
      "cell_type": "markdown",
      "metadata": {
        "id": "e0Sfz-9Y5pIz"
      },
      "source": [
        "# **Question 1**\r\n",
        "\r\n",
        "Given a string, display only those characters which are present at an even index number.\r\n",
        "\r\n",
        "For example str = \"pynative\" so you should display ‘p’, ‘n’, ‘t’, ‘v’.\r\n",
        "\r\n",
        "Expected Output:\r\n",
        "Orginal String is  pynative\r\n",
        "Printing only even index chars\r\n",
        "\r\n",
        "p\r\n",
        "\r\n",
        "n\r\n",
        "\r\n",
        "t\r\n",
        "\r\n",
        "v\r\n"
      ]
    },
    {
      "cell_type": "code",
      "metadata": {
        "colab": {
          "base_uri": "https://localhost:8080/"
        },
        "id": "bpaS7wyk5mPX",
        "outputId": "f765049d-0843-439f-d678-5037e8c7c974"
      },
      "source": [
        "def stringChange(str):\r\n",
        "  length=len(str)\r\n",
        "  for ch in str[0:length:2]:\r\n",
        "    print(ch)\r\n",
        "\r\n",
        "stringChange(\"pynative\")"
      ],
      "execution_count": 5,
      "outputs": [
        {
          "output_type": "stream",
          "text": [
            "p\n",
            "n\n",
            "t\n",
            "v\n"
          ],
          "name": "stdout"
        }
      ]
    },
    {
      "cell_type": "markdown",
      "metadata": {
        "id": "wgvH9LCq8OPp"
      },
      "source": [
        "# **Question 2**\r\n",
        "\r\n",
        "Given a list of numbers, return True if first and last number of a list is same\r\n",
        "\r\n",
        "Expected Output:\r\n",
        "\r\n",
        "Given list is  [10, 20, 30, 40, 10]\r\n",
        "\r\n",
        "result is True\r\n",
        "\r\n",
        "Given list is  [10, 20, 30, 40, 50]\r\n",
        "\r\n",
        "result is False\r\n"
      ]
    },
    {
      "cell_type": "code",
      "metadata": {
        "colab": {
          "base_uri": "https://localhost:8080/"
        },
        "id": "HFkqQP-v8qag",
        "outputId": "acde31a0-7c34-405a-f798-f8fa0b8d2360"
      },
      "source": [
        "def samesieess(listee):\r\n",
        "  if listee[0] == listee[-1]:\r\n",
        "    return True\r\n",
        "  return False\r\n",
        "\r\n",
        "samesieess([10,20,30,40,50])"
      ],
      "execution_count": 8,
      "outputs": [
        {
          "output_type": "execute_result",
          "data": {
            "text/plain": [
              "False"
            ]
          },
          "metadata": {
            "tags": []
          },
          "execution_count": 8
        }
      ]
    },
    {
      "cell_type": "markdown",
      "metadata": {
        "id": "_Fm5VHrx9b6Z"
      },
      "source": [
        "# **Question 3**\r\n",
        "\r\n",
        "Given a list of numbers, Iterate it and print only those numbers which are divisible of 5\r\n",
        "\r\n",
        "Expected Output:\r\n",
        "\r\n",
        "Given list is  [10, 20, 33, 46, 55]\r\n",
        "\r\n",
        "Divisible of 5 in a list\r\n",
        "\r\n",
        "10\r\n",
        "\r\n",
        "20\r\n",
        "\r\n",
        "55\r\n"
      ]
    },
    {
      "cell_type": "code",
      "metadata": {
        "colab": {
          "base_uri": "https://localhost:8080/"
        },
        "id": "dMMabrmOjeMi",
        "outputId": "48504fa6-27d7-45a9-a5f3-8dd13970a22d"
      },
      "source": [
        "def divisi(arr):\r\n",
        "  for i in arr:\r\n",
        "    if i%5==0 :\r\n",
        "      print(i)\r\n",
        "\r\n",
        "divisi([10,20,33,46,55])"
      ],
      "execution_count": 6,
      "outputs": [
        {
          "output_type": "stream",
          "text": [
            "10\n",
            "20\n",
            "55\n"
          ],
          "name": "stdout"
        }
      ]
    },
    {
      "cell_type": "markdown",
      "metadata": {
        "id": "qkH2H2QHsmBf"
      },
      "source": [
        "# **Question 4**\r\n",
        "\r\n",
        "Return the total count of sub-string “Emma” appears in the given string\r\n",
        "\r\n",
        "Given string is “Emma is good developer. Emma is a writer”\r\n",
        "\r\n",
        "Expected Output:\r\n",
        "\r\n",
        "Emma appeared 2 times\r\n"
      ]
    },
    {
      "cell_type": "code",
      "metadata": {
        "colab": {
          "base_uri": "https://localhost:8080/"
        },
        "id": "SN1leTaBsuHO",
        "outputId": "0370380b-f0e4-40c7-bfa8-cbf8f6c9a153"
      },
      "source": [
        "def countSubSring(str, substr):\r\n",
        "  count=0\r\n",
        "  for word in str.split():\r\n",
        "    if word==substr:\r\n",
        "      count=count+1\r\n",
        "  print(substr+\" appeared\",count,\"times\")\r\n",
        "\r\n",
        "countSubSring(\"Emma is a good developer. Emma is a writer\",\"Emma\")"
      ],
      "execution_count": 8,
      "outputs": [
        {
          "output_type": "stream",
          "text": [
            "Emma appeared 2 times\n"
          ],
          "name": "stdout"
        }
      ]
    },
    {
      "cell_type": "markdown",
      "metadata": {
        "id": "7lyM1fVIvYxf"
      },
      "source": [
        "# **Question 5**\r\n",
        "\r\n",
        "Print the following pattern:\r\n",
        "\r\n",
        "1 \r\n",
        "\r\n",
        "2 2 \r\n",
        "\r\n",
        "3 3 3 \r\n",
        "\r\n",
        "4 4 4 4 \r\n",
        "\r\n",
        "5 5 5 5 5\r\n",
        "\r\n"
      ]
    },
    {
      "cell_type": "code",
      "metadata": {
        "colab": {
          "base_uri": "https://localhost:8080/"
        },
        "id": "n3MyTRnvvhIP",
        "outputId": "5537d45e-2824-4cda-bebb-337c5bf269b4"
      },
      "source": [
        "def pattern():\r\n",
        "  for i in range(5):\r\n",
        "    for j in range(i+1):\r\n",
        "      print(i+1, end=\" \")\r\n",
        "    print()\r\n",
        "\r\n",
        "pattern()"
      ],
      "execution_count": 16,
      "outputs": [
        {
          "output_type": "stream",
          "text": [
            "1 \n",
            "2 2 \n",
            "3 3 3 \n",
            "4 4 4 4 \n",
            "5 5 5 5 5 \n"
          ],
          "name": "stdout"
        }
      ]
    },
    {
      "cell_type": "markdown",
      "metadata": {
        "id": "SZw-zqRwwSKV"
      },
      "source": [
        "# **Question 6**\r\n",
        "\r\n",
        "Reverse a given number and return true if it is the same as the original number\r\n",
        "\r\n",
        "Expected Output:\r\n",
        "\r\n",
        "original number 121\r\n",
        "\r\n",
        "The original and reverse number is the same\r\n",
        "\r\n",
        "original number 125\r\n",
        "\r\n",
        "The original and reverse number is not same\r\n"
      ]
    },
    {
      "cell_type": "code",
      "metadata": {
        "colab": {
          "base_uri": "https://localhost:8080/"
        },
        "id": "rVYVVd94wpy2",
        "outputId": "5f349123-aa3c-483d-f2a6-15b18be2b17f"
      },
      "source": [
        "def isPalin(Num):\r\n",
        "  copy=Num\r\n",
        "  rev=0\r\n",
        "  while copy>0:\r\n",
        "    rev=(rev*10)+(copy%10)\r\n",
        "    copy=int(copy/10)\r\n",
        "  if rev==Num:\r\n",
        "    return True\r\n",
        "  return False\r\n",
        "\r\n",
        "isPalin(12521)"
      ],
      "execution_count": 20,
      "outputs": [
        {
          "output_type": "stream",
          "text": [
            "12521\n"
          ],
          "name": "stdout"
        },
        {
          "output_type": "execute_result",
          "data": {
            "text/plain": [
              "True"
            ]
          },
          "metadata": {
            "tags": []
          },
          "execution_count": 20
        }
      ]
    },
    {
      "cell_type": "markdown",
      "metadata": {
        "id": "86LKzWtRxktG"
      },
      "source": [
        "# **Question 7**\r\n",
        "\r\n",
        "Given a two list of numbers create a new list such that new list should contain only odd numbers from the first list and even numbers from the second list\r\n",
        "\r\n",
        "Expected Output:\r\n",
        "\r\n",
        "First List  [10, 20, 23, 11, 17]\r\n",
        "\r\n",
        "Second List  [13, 43, 24, 36, 12]\r\n",
        "\r\n",
        "\r\n",
        "result List is [23, 11, 17, 24, 36, 12]\r\n"
      ]
    },
    {
      "cell_type": "code",
      "metadata": {
        "colab": {
          "base_uri": "https://localhost:8080/"
        },
        "id": "pfHdn43hxwQU",
        "outputId": "5ac50249-25a8-4a81-8b17-e47dd0935a7f"
      },
      "source": [
        "def changeLists(L1,L2):\r\n",
        "  ret=[]\r\n",
        "  for val in L1:\r\n",
        "    if val%2!=0:\r\n",
        "      ret.append(val)\r\n",
        "  for val in L2:\r\n",
        "    if val%2==0:\r\n",
        "      ret.append(val)\r\n",
        "  return ret\r\n",
        "\r\n",
        "changeLists([10,20,23,11,17],[13,43,24,36,12])"
      ],
      "execution_count": 25,
      "outputs": [
        {
          "output_type": "execute_result",
          "data": {
            "text/plain": [
              "[23, 11, 17, 24, 36, 12]"
            ]
          },
          "metadata": {
            "tags": []
          },
          "execution_count": 25
        }
      ]
    },
    {
      "cell_type": "markdown",
      "metadata": {
        "id": "TrIVCB6Ryxu1"
      },
      "source": [
        "# **Question 8**\r\n",
        "\r\n",
        "Print multiplication table form 1 to 10\r\n",
        "\r\n",
        "Expected Output:\r\n",
        "\r\n",
        "1  2 3 4 5 6 7 8 9 10 \t\t\r\n",
        "\r\n",
        "2  4 6 8 10 12 14 16 18 20 \t\t\r\n",
        "\r\n",
        "3  6 9 12 15 18 21 24 27 30 \t\t\r\n",
        "\r\n",
        "4  8 12 16 20 24 28 32 36 40 \t\t\r\n",
        "\r\n",
        "5  10 15 20 25 30 35 40 45 50 \t\r\n",
        "\r\n",
        "6  12 18 24 30 36 42 48 54 60 \r\n",
        "\r\n",
        "7  14 21 28 35 42 49 56 63 70 \r\n",
        "\r\n",
        "8  16 24 32 40 48 56 64 72 80 \r\n",
        "\r\n",
        "9  18 27 36 45 54 63 72 81 90 \t\r\n",
        "\t\r\n",
        "10 20 30 40 50 60 70 80 90 100\r\n"
      ]
    },
    {
      "cell_type": "code",
      "metadata": {
        "colab": {
          "base_uri": "https://localhost:8080/"
        },
        "id": "0Jk4Mlrly9pP",
        "outputId": "9af3faf0-a9c3-4945-f25f-72e6b8a0b53c"
      },
      "source": [
        "def multiplicationTable():\r\n",
        "  for i in range(10):\r\n",
        "    for j in range(10):\r\n",
        "      print((i+1)*(j+1),end=\" \")\r\n",
        "    print()\r\n",
        "\r\n",
        "multiplicationTable()"
      ],
      "execution_count": 29,
      "outputs": [
        {
          "output_type": "stream",
          "text": [
            "1 2 3 4 5 6 7 8 9 10 \n",
            "2 4 6 8 10 12 14 16 18 20 \n",
            "3 6 9 12 15 18 21 24 27 30 \n",
            "4 8 12 16 20 24 28 32 36 40 \n",
            "5 10 15 20 25 30 35 40 45 50 \n",
            "6 12 18 24 30 36 42 48 54 60 \n",
            "7 14 21 28 35 42 49 56 63 70 \n",
            "8 16 24 32 40 48 56 64 72 80 \n",
            "9 18 27 36 45 54 63 72 81 90 \n",
            "10 20 30 40 50 60 70 80 90 100 \n"
          ],
          "name": "stdout"
        }
      ]
    },
    {
      "cell_type": "markdown",
      "metadata": {
        "id": "OioNFqLxzZve"
      },
      "source": [
        "# **Question 9**\r\n",
        "\r\n",
        "Print downward Half-Pyramid Pattern with Star (asterisk)\r\n",
        "\r\n",
        "* * * * *  \r\n",
        "* * * *  \r\n",
        "* * *  \r\n",
        "* * \r\n",
        "*\r\n"
      ]
    },
    {
      "cell_type": "code",
      "metadata": {
        "colab": {
          "base_uri": "https://localhost:8080/"
        },
        "id": "nrHHaf0lzlrl",
        "outputId": "f7ca4110-89c5-448c-cf61-03e3625df7b1"
      },
      "source": [
        "def halfPyramid():\r\n",
        "  for i in range(5,0,-1):\r\n",
        "    for j in range(i):\r\n",
        "      print(\"*\",end=\" \")\r\n",
        "    print()\r\n",
        "\r\n",
        "halfPyramid()"
      ],
      "execution_count": 33,
      "outputs": [
        {
          "output_type": "stream",
          "text": [
            "* * * * * \n",
            "* * * * \n",
            "* * * \n",
            "* * \n",
            "* \n"
          ],
          "name": "stdout"
        }
      ]
    }
  ]
}